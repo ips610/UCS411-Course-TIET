{
  "nbformat": 4,
  "nbformat_minor": 0,
  "metadata": {
    "colab": {
      "provenance": [],
      "authorship_tag": "ABX9TyPVyoyqaMsG/wkq4u55xVZ9",
      "include_colab_link": true
    },
    "kernelspec": {
      "name": "python3",
      "display_name": "Python 3"
    },
    "language_info": {
      "name": "python"
    }
  },
  "cells": [
    {
      "cell_type": "markdown",
      "metadata": {
        "id": "view-in-github",
        "colab_type": "text"
      },
      "source": [
        "<a href=\"https://colab.research.google.com/github/ips610/UCS411-Course-TIET/blob/main/UCS411_Lab_1.ipynb\" target=\"_parent\"><img src=\"https://colab.research.google.com/assets/colab-badge.svg\" alt=\"Open In Colab\"/></a>"
      ]
    },
    {
      "cell_type": "code",
      "execution_count": 5,
      "metadata": {
        "colab": {
          "base_uri": "https://localhost:8080/"
        },
        "id": "1gmVpRi8roTE",
        "outputId": "38b1f5a3-e6c2-4cfa-d84a-7394e3285a2f"
      },
      "outputs": [
        {
          "output_type": "stream",
          "name": "stdout",
          "text": [
            "Enter The Value: 34.23\n",
            "35.23\n",
            "Hello World\n"
          ]
        }
      ],
      "source": [
        "x=float(input(\"Enter The Value: \"))\n",
        "y=\"Hello\"\n",
        "z=3.45\n",
        "if z == 3.45 or y == \"Hello\":\n",
        "  x = x + 1\n",
        "  y = y + \" World\"\n",
        "print(x)\n",
        "print(y)"
      ]
    },
    {
      "cell_type": "code",
      "source": [
        "a=3\n",
        "print(type(a))"
      ],
      "metadata": {
        "colab": {
          "base_uri": "https://localhost:8080/"
        },
        "id": "x22ykYeKuqzU",
        "outputId": "250f2e20-2798-4cc1-de3d-23f2b2a41068"
      },
      "execution_count": 6,
      "outputs": [
        {
          "output_type": "stream",
          "name": "stdout",
          "text": [
            "<class 'int'>\n"
          ]
        }
      ]
    },
    {
      "cell_type": "code",
      "source": [
        "def factorial(x):\n",
        "  ans = 1\n",
        "  for i in range(1,x):\n",
        "    ans = ans*i\n",
        "  return ans\n",
        "\n",
        "print(factorial(5))"
      ],
      "metadata": {
        "colab": {
          "base_uri": "https://localhost:8080/"
        },
        "id": "6b0JzKBMwqUn",
        "outputId": "e5d812ba-6190-4490-a08a-de9a5d3fbe84"
      },
      "execution_count": 9,
      "outputs": [
        {
          "output_type": "stream",
          "name": "stdout",
          "text": [
            "24\n"
          ]
        }
      ]
    },
    {
      "cell_type": "code",
      "source": [
        "tu = (23, 'abc', 4.56, (2,3), 'def')\n",
        "print(tu[-2][0])\n",
        "print(tu[0])"
      ],
      "metadata": {
        "colab": {
          "base_uri": "https://localhost:8080/"
        },
        "id": "unHJHEOxzRLo",
        "outputId": "74c9ef95-3426-4aaa-b809-4a946759ee8d"
      },
      "execution_count": 12,
      "outputs": [
        {
          "output_type": "stream",
          "name": "stdout",
          "text": [
            "2\n",
            "23\n"
          ]
        }
      ]
    },
    {
      "cell_type": "code",
      "source": [
        "tu = (23, 'abc', 4.56, (2,3), 'def')\n",
        "print(tu[-1][0])\n",
        "print(tu[-1][1])\n",
        "print(tu[-1][2])\n",
        "print()\n",
        "print(str(tu[0])[0])"
      ],
      "metadata": {
        "colab": {
          "base_uri": "https://localhost:8080/"
        },
        "id": "gLC2qTjV0ZgX",
        "outputId": "63172fa1-9dd6-4d0e-87b3-df4f97982e76"
      },
      "execution_count": 16,
      "outputs": [
        {
          "output_type": "stream",
          "name": "stdout",
          "text": [
            "d\n",
            "e\n",
            "f\n",
            "\n",
            "2\n"
          ]
        }
      ]
    },
    {
      "cell_type": "code",
      "source": [
        "tu = (23, 'abc', 4.56, (2,3), 'def')\n",
        "print(tu[1:4])\n",
        "print(tu[1:-1])\n",
        "print(tu[:])\n",
        "print(tu[::-1])"
      ],
      "metadata": {
        "colab": {
          "base_uri": "https://localhost:8080/"
        },
        "id": "SHjzJnOu1vX7",
        "outputId": "a69fad36-bc76-463c-90a9-936bca57c6fc"
      },
      "execution_count": 21,
      "outputs": [
        {
          "output_type": "stream",
          "name": "stdout",
          "text": [
            "('abc', 4.56, (2, 3))\n",
            "('abc', 4.56, (2, 3))\n",
            "()\n",
            "(23, 'abc', 4.56, (2, 3), 'def')\n",
            "('def', (2, 3), 4.56, 'abc', 23)\n"
          ]
        }
      ]
    },
    {
      "cell_type": "code",
      "source": [
        "name = 'Ishpuneet Singh'\n",
        "if 'Ishp' in name:\n",
        "  print(\"Holaa!\")"
      ],
      "metadata": {
        "colab": {
          "base_uri": "https://localhost:8080/"
        },
        "id": "POoiLXeT2kOn",
        "outputId": "f449c0ae-a870-4ade-e8d2-2ad1e60dc934"
      },
      "execution_count": 23,
      "outputs": [
        {
          "output_type": "stream",
          "name": "stdout",
          "text": [
            "Holaa!\n"
          ]
        }
      ]
    }
  ]
}